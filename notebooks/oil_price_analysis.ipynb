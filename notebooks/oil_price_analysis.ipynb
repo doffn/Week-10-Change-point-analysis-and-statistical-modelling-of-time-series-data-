{
 "cells": [
  {
   "cell_type": "markdown",
   "metadata": {},
   "source": [
    "# Oil Price Analysis\n",
    "\n",
    "- Loading Oil Price Data\n",
    "\n",
    "- Understanding the Data\n",
    "\n",
    "- Simple Summary Statistic\n",
    "\n",
    "- Handling Missing Values\n",
    "\n",
    "- Handling Duplicates\n",
    "\n",
    "- Handle Outliers if any\n",
    "\n",
    "- Data Visualization"
   ]
  },
  {
   "cell_type": "markdown",
   "metadata": {},
   "source": [
    "Import neccessary libraries and modules"
   ]
  },
  {
   "cell_type": "code",
   "execution_count": null,
   "metadata": {},
   "outputs": [
    {
     "ename": "",
     "evalue": "",
     "output_type": "error",
     "traceback": [
      "\u001b[1;31mRunning cells with 'venv (Python 3.10.6)' requires the ipykernel package.\n",
      "\u001b[1;31mInstall 'ipykernel' into the Python environment. \n",
      "\u001b[1;31mCommand: '\"c:/Users/doff n/Desktop/vector/week 10/venv/Scripts/python.exe\" -m pip install ipykernel -U --force-reinstall'"
     ]
    }
   ],
   "source": [
    "# Import necessary libraries\n",
    "import pandas as pd\n",
    "import numpy as np\n",
    "import matplotlib.pyplot as plt\n",
    "import os, sys\n",
    "from statsmodels.tsa.seasonal import seasonal_decompose\n",
    "from statsmodels.tsa.stattools import adfuller\n",
    "# Add the 'scripts' directory to the Python path for module imports\n",
    "sys.path.append(os.path.abspath(os.path.join('..', 'scripts')))\n",
    "\n",
    "# Set max rows and columns to display\n",
    "pd.set_option('display.max_columns', 200)\n",
    "pd.set_option('display.max_rows', 200)\n",
    "\n",
    "# Configure logging\n",
    "from logger import SetupLogger\n",
    "# Assuming this class is defined in scripts/\n",
    "from data_preprocessor import DataPreprocessor\n",
    "from data_visualizer import DataVisualizer\n",
    "\n",
    "logger = SetupLogger(log_file='../logs/notebooks.log').get_logger()\n",
    "\n",
    "# Set default figure size for all plots\n",
    "plt.rcParams['figure.figsize'] = (14, 7)"
   ]
  },
  {
   "cell_type": "markdown",
   "metadata": {},
   "source": [
    "**Data Collection**"
   ]
  },
  {
   "cell_type": "markdown",
   "metadata": {},
   "source": [
    "- Download the brent oil price data"
   ]
  },
  {
   "cell_type": "code",
   "execution_count": null,
   "metadata": {},
   "outputs": [],
   "source": [
    "# Set google drive url for loading the dataset\n",
    "url = 'https://drive.google.com/file/d/1dJfhjX57bjvFnc1HHYVUhyW939QjIQE5/view?usp=drive_link'\n",
    "\n",
    "# Setup the data preprocessor class\n",
    "processor = DataPreprocessor(url, logger=logger)\n",
    "# Load the data\n",
    "price_data = processor.load_data()"
   ]
  },
  {
   "cell_type": "markdown",
   "metadata": {},
   "source": [
    "**Note**: always check <a href=\"../logs/notebooks.log\">Log</a> file for any log messages"
   ]
  },
  {
   "cell_type": "code",
   "execution_count": null,
   "metadata": {},
   "outputs": [],
   "source": [
    "# Explore the first 10 rows\n",
    "price_data.head(10)"
   ]
  },
  {
   "cell_type": "code",
   "execution_count": null,
   "metadata": {},
   "outputs": [],
   "source": [
    "# Explore the last 10 rows\n",
    "price_data.tail(10)"
   ]
  },
  {
   "cell_type": "markdown",
   "metadata": {},
   "source": [
    "### Data Cleaning and Preprocessing"
   ]
  },
  {
   "cell_type": "markdown",
   "metadata": {},
   "source": [
    "Inspect the dataset for completeness and structure"
   ]
  },
  {
   "cell_type": "code",
   "execution_count": null,
   "metadata": {},
   "outputs": [],
   "source": [
    "processor.inspect(price_data)"
   ]
  },
  {
   "cell_type": "markdown",
   "metadata": {},
   "source": [
    "### Exploratory Data Analysis"
   ]
  },
  {
   "cell_type": "code",
   "execution_count": null,
   "metadata": {},
   "outputs": [],
   "source": [
    "# Create instances of the DataVisualizer class\n",
    "visualizer = DataVisualizer(price_data, logger = logger)"
   ]
  },
  {
   "cell_type": "markdown",
   "metadata": {},
   "source": [
    "**Detect Outliers**"
   ]
  },
  {
   "cell_type": "markdown",
   "metadata": {},
   "source": [
    "- Box plot"
   ]
  },
  {
   "cell_type": "code",
   "execution_count": null,
   "metadata": {},
   "outputs": [],
   "source": [
    "visualizer.plot_box()"
   ]
  },
  {
   "cell_type": "markdown",
   "metadata": {},
   "source": [
    "- No outliers detected in the price data"
   ]
  },
  {
   "cell_type": "markdown",
   "metadata": {},
   "source": [
    "- Descriptive Statistics"
   ]
  },
  {
   "cell_type": "code",
   "execution_count": null,
   "metadata": {},
   "outputs": [],
   "source": [
    "# Visualize the price distribution\n",
    "visualizer.plot_price_distribution()\n"
   ]
  },
  {
   "cell_type": "markdown",
   "metadata": {},
   "source": [
    "**Time Series Analysis**\n",
    "- Overall price trend\n",
    "\n",
    "    - Create a line graph to visualize price trends over time."
   ]
  },
  {
   "cell_type": "code",
   "execution_count": null,
   "metadata": {},
   "outputs": [],
   "source": [
    "visualizer.plot_price_over_time()\n"
   ]
  },
  {
   "cell_type": "markdown",
   "metadata": {},
   "source": [
    "- **Seasonality Analysis**\n",
    "    - Aggregate prices by year and visualize seasonal patterns."
   ]
  },
  {
   "cell_type": "code",
   "execution_count": null,
   "metadata": {},
   "outputs": [],
   "source": [
    "visualizer.plot_yearly_average()"
   ]
  },
  {
   "cell_type": "markdown",
   "metadata": {},
   "source": [
    "- **Rolling Volatility Analysis**\n",
    "\n",
    "    - Rolling standard deviation (e.g., 30-day) line plot of prices."
   ]
  },
  {
   "cell_type": "code",
   "execution_count": null,
   "metadata": {},
   "outputs": [],
   "source": [
    "# 30-Day Volatile\n",
    "visualizer.plot_rolling_volatility(30)"
   ]
  },
  {
   "cell_type": "code",
   "execution_count": null,
   "metadata": {},
   "outputs": [],
   "source": [
    "# 7-Day volatile\n",
    "visualizer.plot_rolling_volatility(7)"
   ]
  },
  {
   "cell_type": "markdown",
   "metadata": {},
   "source": [
    "**Seasonal Decomposition**"
   ]
  },
  {
   "cell_type": "code",
   "execution_count": null,
   "metadata": {},
   "outputs": [],
   "source": [
    "# Apply seasonal decomposition (use model='multiplicative' for data with proportional seasonal effects)\n",
    "result = seasonal_decompose(price_data['Price'], model='multiplicative', period=365)  # Adjust period if necessary\n",
    "\n",
    "# Plot decomposition\n",
    "fig, axes = plt.subplots(4, 1, figsize=(15, 12), sharex=True)\n",
    "components = ['Original Series', 'Trend', 'Seasonal', 'Residual']\n",
    "series = [price_data['Price'], result.trend, result.seasonal, result.resid]\n",
    "\n",
    "for ax, comp, ser in zip(axes, components, series):\n",
    "    ax.plot(price_data.index, ser, label=comp, color='b' if comp == 'Original Series' else 'purple')\n",
    "    ax.set_title(f'{comp} of Price Series')\n",
    "    ax.set_ylabel('Price' if comp == 'Original Series' else '')\n",
    "    ax.grid(True)\n",
    "    ax.legend(loc='upper left')\n",
    "\n",
    "# Improve layout and display the plot\n",
    "fig.suptitle('Seasonal Decomposition of Brent Oil Price', fontsize=16)\n",
    "plt.tight_layout(rect=[0, 0, 1, 0.96])  # Adjust layout to fit the main title\n",
    "plt.show()"
   ]
  },
  {
   "cell_type": "markdown",
   "metadata": {},
   "source": [
    "**Stationaly Analysis of Time Series Data**"
   ]
  },
  {
   "cell_type": "markdown",
   "metadata": {},
   "source": [
    "- Apply the Augmented Dickey-Fuller (ADF) Test"
   ]
  },
  {
   "cell_type": "code",
   "execution_count": null,
   "metadata": {},
   "outputs": [],
   "source": [
    "def test_stationarity(series, title, label, alpha=0.05):\n",
    "    adf_result = adfuller(series)\n",
    "    \n",
    "    # Print ADF results\n",
    "    print('ADF Statistic:', adf_result[0])\n",
    "    print('p-value:', adf_result[1])\n",
    "    print('Critical Values:')\n",
    "    for key, value in adf_result[4].items():\n",
    "        print(f'   {key}: {value}')\n",
    "    \n",
    "    # Interpretation\n",
    "    if adf_result[1] < alpha:\n",
    "        print(\"The ADF test suggests the series is stationary.\")\n",
    "    else:\n",
    "        print(\"The ADF test suggests the series is not stationary.\")\n",
    "\n",
    "    # Plot the differenced series\n",
    "    plt.figure(figsize=(10, 6))\n",
    "    plt.plot(series, label=label)\n",
    "    plt.title(title)\n",
    "    plt.xlabel('Time')\n",
    "    plt.ylabel('Differenced Price')\n",
    "    plt.legend()\n",
    "    plt.grid()\n",
    "    plt.show()\n",
    "    \n",
    "    return adf_result[0], adf_result[1]  # Returning ADF statistic and p-value for further use\n",
    "\n",
    "# Assuming 'price_data' is your DataFrame with a 'Price' column\n",
    "data = price_data['Price']\n",
    "\n",
    "# First differencing\n",
    "data_diff = data.diff(12).dropna()\n",
    "test_stationarity(data_diff, title='First Differenced Brent Oil Prices', label='First Differenced Series')"
   ]
  },
  {
   "cell_type": "code",
   "execution_count": null,
   "metadata": {},
   "outputs": [],
   "source": [
    "# Log transformation\n",
    "log_data = np.log(price_data['Price'])\n",
    "log_data_diff = log_data.diff().dropna()\n",
    "test_stationarity(log_data_diff, title='Log Differenced Brent Oil Prices', label='Log Differenced Series')\n"
   ]
  }
 ],
 "metadata": {
  "kernelspec": {
   "display_name": "venv",
   "language": "python",
   "name": "python3"
  },
  "language_info": {
   "codemirror_mode": {
    "name": "ipython",
    "version": 3
   },
   "file_extension": ".py",
   "mimetype": "text/x-python",
   "name": "python",
   "nbconvert_exporter": "python",
   "pygments_lexer": "ipython3",
   "version": "3.10.6"
  }
 },
 "nbformat": 4,
 "nbformat_minor": 2
}
